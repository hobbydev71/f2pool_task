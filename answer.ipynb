{
 "metadata": {
  "language_info": {
   "codemirror_mode": {
    "name": "ipython",
    "version": 3
   },
   "file_extension": ".py",
   "mimetype": "text/x-python",
   "name": "python",
   "nbconvert_exporter": "python",
   "pygments_lexer": "ipython3",
   "version": "3.8.5"
  },
  "orig_nbformat": 2,
  "kernelspec": {
   "name": "python385jvsc74a57bd0cec60195f8e5eda9a02263f7bafca4558fbc02993733de8c48a7824ece104a7a",
   "display_name": "Python 3.8.5 64-bit ('base': conda)"
  }
 },
 "nbformat": 4,
 "nbformat_minor": 2,
 "cells": [
  {
   "cell_type": "markdown",
   "source": [
    "1. How often does the Bitcoin network see two consecutive blocks mined more than 2 hours apart from each other?\r\n",
    "If the block time is independent of each other and of time (this may not neccessary be true, but it becomes much harder to model), then you can assume a Poisson process with a stable rate of, say $\\lambda$ per hour.\r\n",
    "The probability of no blocks being discovered in 10 minutes is\r\n",
    "\r\n",
    "$P(X=0)=\\frac{\\lambda^0e^{-\\lambda}}{0!}=e^{-\\lambda}$\r\n",
    "\r\n",
    "We can also model the likelyhood of a successful block to be an exponential distribution. We would take the integral of the distribution from time_0 to time_1 (the event):\r\n",
    "\r\n",
    "$(1-\\frac{1}{e}) \\approx 0.63212\\%$\r\n",
    "\r\n",
    "If this probability is equal to $(1-\\frac{1}{e})$ then you can deduce the rate $\\lambda$ as follows:\r\n",
    "\r\n",
    "$e^{-\\lambda} = (1-\\frac{1}{e}) \\rightarrow \\lambda = -\\ln(1-\\frac{1}{e}) = -\\ln(\\frac{e-1}{e})= \\ln(\\frac{e}{e-1}) \\approx 0.45867$ block per 10 minutes.\r\n",
    "\r\n",
    "If one is interested in what happens over $x$ minutes, then the expected number of blocks will be $x\\ln(\\frac{e}{e-1})/10$ and the probablity of detecting (i.e, at least one block over $t$ minutes) will be\r\n",
    "\r\n",
    "$P(X\\geq1)=1-P(X=0) = 1 - \\frac{(t\\ln(\\frac{e}{e-1})/10)^0e^{-t(\\ln(\\frac{e}{e-1}))/10}}{0!} = e^{-t(\\ln(\\frac{e}{e-1}))/10}$\r\n",
    "\r\n",
    "For a 120-minute interval\r\n",
    "\r\n",
    "$1 - e^{-120(\\ln(\\frac{e}{e-1})4)/10} \\approx 0.99593$\r\n",
    "\r\n",
    "Taking the inverse again, we could have .00407 or 0.407%\r\n",
    "\r\n",
    "Answer is 0.4%.\r\n",
    "\r\n",
    "\r\n",
    "2. How many times the above had happened so far in the history of Bitcoin?\r\n",
    "Up to Stack 703471,  168472 blocks was happend.\r\n",
    "\r\n"
   ],
   "metadata": {}
  }
 ]
}